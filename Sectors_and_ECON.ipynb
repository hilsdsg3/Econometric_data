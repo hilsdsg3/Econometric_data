{
 "cells": [
  {
   "cell_type": "markdown",
   "metadata": {},
   "source": [
    "## In Jupyter Notebook run first"
   ]
  },
  {
   "cell_type": "code",
   "execution_count": 391,
   "metadata": {},
   "outputs": [
    {
     "name": "stdout",
     "output_type": "stream",
     "text": [
      "Ready to go !\n"
     ]
    }
   ],
   "source": [
    "%reload_ext autoreload\n",
    "%run -i C:/Users/champ/Python_proj/base_financial_repo/Econometric_data_repo/meta_data/API\n",
    "%run -i C:/Users/champ/Python_proj/base_financial_repo/Econometric_data_repo/meta_data/global_vars_and_constants\n",
    "%run -i C:/Users/champ/Python_proj/base_financial_repo/Econometric_data_repo/meta_data/functions\n",
    "%run -i C:/Users/champ/Python_proj/base_financial_repo/Econometric_data_repo/meta_data/imports"
   ]
  },
  {
   "cell_type": "markdown",
   "metadata": {},
   "source": [
    "# Main"
   ]
  },
  {
   "cell_type": "code",
   "execution_count": null,
   "metadata": {},
   "outputs": [
    {
     "name": "stdout",
     "output_type": "stream",
     "text": [
      "Downloding financial data ....\n",
      "xlp\n",
      "xle\n",
      "xlv\n",
      "xli\n",
      "xlb\n",
      "xlk\n",
      "iyt\n",
      "xlu\n",
      "vcr\n",
      "vfh\n",
      "vnq\n",
      "tlt\n",
      "spy\n",
      "ivv\n",
      "spxl\n",
      "bnd\n",
      "gld\n",
      "Downloding financial data .... Finished\n",
      "xlp\n",
      "Today the market was open and the \n",
      "sectors price data is NOT updated\n",
      "\n",
      "Downloading price data ....\n",
      "security : xlp\n",
      "Downloading price data .... Finished\n",
      "\n",
      "Downloading price data ....\n",
      "security : xle\n",
      "Downloading price data .... Finished\n",
      "\n",
      "Downloading price data ....\n",
      "security : xlv\n",
      "Downloading price data .... Finished\n",
      "\n",
      "Downloading price data ....\n",
      "security : xli\n",
      "Downloading price data .... Finished\n",
      "\n",
      "Downloading price data ....\n",
      "security : xlb\n",
      "Downloading price data .... Finished\n",
      "\n",
      "Downloading price data ....\n",
      "security : xlk\n",
      "Downloading price data .... Finished\n",
      "\n",
      "Downloading price data ....\n",
      "security : iyt\n",
      "Downloading price data .... Finished\n",
      "\n",
      "Downloading price data ....\n",
      "security : xlu\n",
      "Downloading price data .... Finished\n",
      "\n",
      "Downloading price data ....\n",
      "security : vcr\n",
      "Downloading price data .... Finished\n",
      "\n",
      "Downloading price data ....\n",
      "security : vfh\n",
      "Downloading price data .... Finished\n",
      "\n",
      "Downloading price data ....\n",
      "security : vnq\n",
      "Downloading price data .... Finished\n",
      "\n",
      "Downloading price data ....\n",
      "security : spy\n",
      "Downloading price data .... Finished\n"
     ]
    }
   ],
   "source": [
    "%matplotlib widget\n",
    "df_sec = update_securities_df(Securities_file_import_from_csv)\n",
    "# Relative strength indicator and economic indicators\n",
    "\n",
    "# df = update_securities_df(Securities_file_import_from_csv)\n",
    "\n",
    "# Local variables\n",
    "#accounts = ['sectors','inx']\n",
    "data_type='Adj Close'\n",
    "# force_update = False # Force download of financial data\n",
    "# df = df.loc[(df['Type'] == 'sector') | (df['Type'] == 'inx')]\n",
    "# df = df['Ticker'].values.tolist()\n",
    "\n",
    "# for ARRAY in df: \n",
    "#     prices_file = META_FILE_FOLDER_LOCATION +'prices_'+ARRAY+'.csv'\n",
    "# #     if ARRAY == 'sectors': \n",
    "# #         securities = ['xlp', 'xle', 'xlv', 'xli', 'xlb',\n",
    "# #                       'xlk', 'iyt', 'xlu', 'vcr', 'vfh', 'vnq']\n",
    "        \n",
    "#         sector_price_data = get_prices(df, account, prices_file, \n",
    "#                                        data_type, start_date, force_update)\n",
    "        \n",
    "#     for index,rows in df.iterrows():\n",
    "#         if rows['Type'] == 'sector':\n",
    "#             prices_file = META_FILE_FOLDER_LOCATION +'prices_'+rows['Ticker']+'.csv'\n",
    "#             sector_price_data = get_prices(rows['Ticker'], account, prices_file, \n",
    "#                                            data_type, start_date, force_update)\n",
    "        \n",
    "\n",
    "df = df_sec\n",
    "df = df.loc[(df['Type'] == 'sector') | (df['Type'] == 'inx')]\n",
    "df = df['Ticker'].values.tolist()\n",
    "        \n",
    "sector_price_data = get_prices(df, account, META_FILE_FOLDER_LOCATION, \n",
    "                                data_type, start_date, force_update = False)\n",
    "\n",
    "#sector_price_data = sector_price_data.rename(columns={'spy': 'inx' })\n",
    "inx_price_data = sector_price_data[['spy']]\n",
    "\n",
    "#     if ARRAY == 'inx':\n",
    "#         securities = [INX]\n",
    "#         inx_price_data = get_prices(securities,\n",
    "#                                     account, prices_file,\n",
    "#                                     data_type, start_date,\n",
    "#                                     force_update)\n",
    "#         inx_price_data['MA50_index']=inx_price_data[INX].rolling(50).mean()\n",
    "#         inx_price_data['MA200_index']=inx_price_data[INX].rolling(200).mean()\n",
    "#         inx_price_data.index = pd.to_datetime(inx_price_data.index)\n",
    "\n",
    "#  Function calls\n",
    "Market_indicator_signal,mkt_ind = get_mkt_indicator(inx_price_data)\n",
    "Average_return = _1_3_6_9_12_month_returns(sector_price_data)\n",
    "FRED_data_mort = get_FRED_data('MORTGAGE30US','mort',start_date,0,1,FRED_API)\n",
    "FRED_data_LEI = get_FRED_data('USSLIND','LEI',start_date,0,1,FRED_API)\n",
    "FRED_data_inf = get_FRED_data('CPILFESL','inf',start_date,12,100,FRED_API)\n",
    "FRED_data_10_2 = get_FRED_data('T10Y2Y','10_2',start_date,0,1,FRED_API)\n",
    "FRED_data_RF = get_FRED_data('DTB3','RF',start_date,0,1,FRED_API)\n",
    "FRED_data_ICSA = get_FRED_data('ICSA','UnEmp',start_date,52,1,FRED_API)\n",
    "\n",
    "combined_12_mo_return = pd.concat([FRED_data_RF, FRED_data_inf,\n",
    "                                  FRED_data_LEI, FRED_data_mort,\n",
    "                                  FRED_data_10_2, FRED_data_ICSA], \n",
    "                                  axis=1, sort=False)\n",
    "combined_12_mo_return = combined_12_mo_return.fillna(method='ffill')\n",
    "combined_12_mo_return = combined_12_mo_return.fillna(method='bfill')\n",
    "\n",
    "#  Display\n",
    "display = display_relative_strength(Average_return,\n",
    "                                    Market_indicator_signal,\n",
    "                                    mkt_ind,\n",
    "                                    securities_file_location)\n",
    "display2 = prepare_market_indicator(inx_price_data,INX);\n",
    "display3 = bollinger_bands_graph(inx_price_data,INX);\n",
    "display4 = econometric_graph(combined_12_mo_return);"
   ]
  }
 ],
 "metadata": {
  "kernelspec": {
   "display_name": "main_env",
   "language": "python",
   "name": "main_env"
  },
  "language_info": {
   "codemirror_mode": {
    "name": "ipython",
    "version": 3
   },
   "file_extension": ".py",
   "mimetype": "text/x-python",
   "name": "python",
   "nbconvert_exporter": "python",
   "pygments_lexer": "ipython3",
   "version": "3.8.2"
  },
  "widgets": {
   "application/vnd.jupyter.widget-state+json": {
    "state": {
     "0b8761a4916e4c6e921abc31af9673cf": {
      "model_module": "jupyter-matplotlib",
      "model_module_version": "^0.7.2",
      "model_name": "ToolbarModel",
      "state": {
       "layout": "IPY_MODEL_25567f9f4f4945eb938ae99dc1b3a568",
       "toolitems": [
        [
         "Home",
         "Reset original view",
         "home",
         "home"
        ],
        [
         "Back",
         "Back to previous view",
         "arrow-left",
         "back"
        ],
        [
         "Forward",
         "Forward to next view",
         "arrow-right",
         "forward"
        ],
        [
         "Pan",
         "Pan axes with left mouse, zoom with right",
         "arrows",
         "pan"
        ],
        [
         "Zoom",
         "Zoom to rectangle",
         "square-o",
         "zoom"
        ],
        [
         "Download",
         "Download plot",
         "floppy-o",
         "save_figure"
        ]
       ]
      }
     },
     "1671575f455e4fd48ba3dd1fe8d87eed": {
      "model_module": "@jupyter-widgets/base",
      "model_module_version": "1.2.0",
      "model_name": "LayoutModel",
      "state": {}
     },
     "1a38e444f5b245fbaab9d2a5dc01eeb0": {
      "model_module": "jupyter-matplotlib",
      "model_module_version": "^0.7.2",
      "model_name": "ToolbarModel",
      "state": {
       "layout": "IPY_MODEL_9315141228834451a1ce7336211eb955",
       "toolitems": [
        [
         "Home",
         "Reset original view",
         "home",
         "home"
        ],
        [
         "Back",
         "Back to previous view",
         "arrow-left",
         "back"
        ],
        [
         "Forward",
         "Forward to next view",
         "arrow-right",
         "forward"
        ],
        [
         "Pan",
         "Pan axes with left mouse, zoom with right",
         "arrows",
         "pan"
        ],
        [
         "Zoom",
         "Zoom to rectangle",
         "square-o",
         "zoom"
        ],
        [
         "Download",
         "Download plot",
         "floppy-o",
         "save_figure"
        ]
       ]
      }
     },
     "1d2e14779c344215b9f6be64d48de9d7": {
      "model_module": "@jupyter-widgets/base",
      "model_module_version": "1.2.0",
      "model_name": "LayoutModel",
      "state": {}
     },
     "25567f9f4f4945eb938ae99dc1b3a568": {
      "model_module": "@jupyter-widgets/base",
      "model_module_version": "1.2.0",
      "model_name": "LayoutModel",
      "state": {}
     },
     "2b06430092334fe29b821d125486327e": {
      "model_module": "@jupyter-widgets/base",
      "model_module_version": "1.2.0",
      "model_name": "LayoutModel",
      "state": {}
     },
     "3292ebe19e7948e1a0a9b99c2ff15692": {
      "model_module": "jupyter-matplotlib",
      "model_module_version": "^0.7.2",
      "model_name": "ToolbarModel",
      "state": {
       "_current_action": "zoom",
       "layout": "IPY_MODEL_542cc92e85be459aace21b702a2b7b35",
       "toolitems": [
        [
         "Home",
         "Reset original view",
         "home",
         "home"
        ],
        [
         "Back",
         "Back to previous view",
         "arrow-left",
         "back"
        ],
        [
         "Forward",
         "Forward to next view",
         "arrow-right",
         "forward"
        ],
        [
         "Pan",
         "Pan axes with left mouse, zoom with right",
         "arrows",
         "pan"
        ],
        [
         "Zoom",
         "Zoom to rectangle",
         "square-o",
         "zoom"
        ],
        [
         "Download",
         "Download plot",
         "floppy-o",
         "save_figure"
        ]
       ]
      }
     },
     "37944e2e385f47c38f0fd110b84bd5a4": {
      "model_module": "@jupyter-widgets/base",
      "model_module_version": "1.2.0",
      "model_name": "LayoutModel",
      "state": {}
     },
     "4cdab88ae082487bb1f829df1c84d781": {
      "model_module": "@jupyter-widgets/base",
      "model_module_version": "1.2.0",
      "model_name": "LayoutModel",
      "state": {}
     },
     "542cc92e85be459aace21b702a2b7b35": {
      "model_module": "@jupyter-widgets/base",
      "model_module_version": "1.2.0",
      "model_name": "LayoutModel",
      "state": {}
     },
     "628b121bdf754df58885874485e334bc": {
      "model_module": "@jupyter-widgets/base",
      "model_module_version": "1.2.0",
      "model_name": "LayoutModel",
      "state": {}
     },
     "65fa25f67fab436db5fd70cc12cfa59c": {
      "model_module": "@jupyter-widgets/base",
      "model_module_version": "1.2.0",
      "model_name": "LayoutModel",
      "state": {}
     },
     "77747b15c0db49b88024fc2613f77b3a": {
      "model_module": "@jupyter-widgets/base",
      "model_module_version": "1.2.0",
      "model_name": "LayoutModel",
      "state": {}
     },
     "9315141228834451a1ce7336211eb955": {
      "model_module": "@jupyter-widgets/base",
      "model_module_version": "1.2.0",
      "model_name": "LayoutModel",
      "state": {}
     },
     "96b2fea0fbb040b3b080681e0105c680": {
      "model_module": "@jupyter-widgets/base",
      "model_module_version": "1.2.0",
      "model_name": "LayoutModel",
      "state": {}
     },
     "99755d702c72406c838dd4d1ed06084e": {
      "model_module": "@jupyter-widgets/base",
      "model_module_version": "1.2.0",
      "model_name": "LayoutModel",
      "state": {}
     },
     "aafd6c927d5041218941ccd9602f04e5": {
      "model_module": "jupyter-matplotlib",
      "model_module_version": "^0.7.2",
      "model_name": "ToolbarModel",
      "state": {
       "layout": "IPY_MODEL_99755d702c72406c838dd4d1ed06084e",
       "toolitems": [
        [
         "Home",
         "Reset original view",
         "home",
         "home"
        ],
        [
         "Back",
         "Back to previous view",
         "arrow-left",
         "back"
        ],
        [
         "Forward",
         "Forward to next view",
         "arrow-right",
         "forward"
        ],
        [
         "Pan",
         "Pan axes with left mouse, zoom with right",
         "arrows",
         "pan"
        ],
        [
         "Zoom",
         "Zoom to rectangle",
         "square-o",
         "zoom"
        ],
        [
         "Download",
         "Download plot",
         "floppy-o",
         "save_figure"
        ]
       ]
      }
     },
     "ad01d120dde548f7aa72db3a0da439bb": {
      "model_module": "jupyter-matplotlib",
      "model_module_version": "^0.7.2",
      "model_name": "ToolbarModel",
      "state": {
       "layout": "IPY_MODEL_628b121bdf754df58885874485e334bc",
       "toolitems": [
        [
         "Home",
         "Reset original view",
         "home",
         "home"
        ],
        [
         "Back",
         "Back to previous view",
         "arrow-left",
         "back"
        ],
        [
         "Forward",
         "Forward to next view",
         "arrow-right",
         "forward"
        ],
        [
         "Pan",
         "Pan axes with left mouse, zoom with right",
         "arrows",
         "pan"
        ],
        [
         "Zoom",
         "Zoom to rectangle",
         "square-o",
         "zoom"
        ],
        [
         "Download",
         "Download plot",
         "floppy-o",
         "save_figure"
        ]
       ]
      }
     },
     "c1181dd9f37244599b63e48b5f9f8733": {
      "model_module": "jupyter-matplotlib",
      "model_module_version": "^0.7.2",
      "model_name": "ToolbarModel",
      "state": {
       "layout": "IPY_MODEL_1d2e14779c344215b9f6be64d48de9d7",
       "toolitems": [
        [
         "Home",
         "Reset original view",
         "home",
         "home"
        ],
        [
         "Back",
         "Back to previous view",
         "arrow-left",
         "back"
        ],
        [
         "Forward",
         "Forward to next view",
         "arrow-right",
         "forward"
        ],
        [
         "Pan",
         "Pan axes with left mouse, zoom with right",
         "arrows",
         "pan"
        ],
        [
         "Zoom",
         "Zoom to rectangle",
         "square-o",
         "zoom"
        ],
        [
         "Download",
         "Download plot",
         "floppy-o",
         "save_figure"
        ]
       ]
      }
     },
     "c55884de6dfa42098410a45dd91449db": {
      "model_module": "@jupyter-widgets/base",
      "model_module_version": "1.2.0",
      "model_name": "LayoutModel",
      "state": {}
     },
     "c96907e82818452fabdf6c203cab4752": {
      "model_module": "jupyter-matplotlib",
      "model_module_version": "^0.7.2",
      "model_name": "ToolbarModel",
      "state": {
       "layout": "IPY_MODEL_65fa25f67fab436db5fd70cc12cfa59c",
       "toolitems": [
        [
         "Home",
         "Reset original view",
         "home",
         "home"
        ],
        [
         "Back",
         "Back to previous view",
         "arrow-left",
         "back"
        ],
        [
         "Forward",
         "Forward to next view",
         "arrow-right",
         "forward"
        ],
        [
         "Pan",
         "Pan axes with left mouse, zoom with right",
         "arrows",
         "pan"
        ],
        [
         "Zoom",
         "Zoom to rectangle",
         "square-o",
         "zoom"
        ],
        [
         "Download",
         "Download plot",
         "floppy-o",
         "save_figure"
        ]
       ]
      }
     },
     "e49f9bf852d14dfbb3edf5c4c0463b97": {
      "model_module": "jupyter-matplotlib",
      "model_module_version": "^0.7.2",
      "model_name": "ToolbarModel",
      "state": {
       "layout": "IPY_MODEL_96b2fea0fbb040b3b080681e0105c680",
       "toolitems": [
        [
         "Home",
         "Reset original view",
         "home",
         "home"
        ],
        [
         "Back",
         "Back to previous view",
         "arrow-left",
         "back"
        ],
        [
         "Forward",
         "Forward to next view",
         "arrow-right",
         "forward"
        ],
        [
         "Pan",
         "Pan axes with left mouse, zoom with right",
         "arrows",
         "pan"
        ],
        [
         "Zoom",
         "Zoom to rectangle",
         "square-o",
         "zoom"
        ],
        [
         "Download",
         "Download plot",
         "floppy-o",
         "save_figure"
        ]
       ]
      }
     },
     "e9a6ed339f4f4074a8c5f241168a4714": {
      "model_module": "@jupyter-widgets/base",
      "model_module_version": "1.2.0",
      "model_name": "LayoutModel",
      "state": {}
     },
     "fee2d3451d394dfd82d9f33bdc777bce": {
      "model_module": "@jupyter-widgets/base",
      "model_module_version": "1.2.0",
      "model_name": "LayoutModel",
      "state": {}
     }
    },
    "version_major": 2,
    "version_minor": 0
   }
  }
 },
 "nbformat": 4,
 "nbformat_minor": 4
}
